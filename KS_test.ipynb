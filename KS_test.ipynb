{
 "cells": [
  {
   "cell_type": "code",
   "execution_count": null,
   "metadata": {},
   "outputs": [],
   "source": [
    "import pandas as pd\n",
    "import os"
   ]
  },
  {
   "cell_type": "code",
   "execution_count": 5,
   "metadata": {},
   "outputs": [],
   "source": [
    "\n",
    "\n",
    "filenames = os.listdir('D:/Modelling/Diff_flux_sampling/sampling/optgp') # lists all csv files in your directory\n",
    "\n",
    "def extract_name_files(text): # removes .csv from the name of each file\n",
    "    name_file = text.strip('.csv').lower()\n",
    "    return name_file\n",
    "\n",
    "names_of_files = list(map(extract_name_files,filenames))"
   ]
  },
  {
   "cell_type": "code",
   "execution_count": 6,
   "metadata": {},
   "outputs": [],
   "source": [
    "import os\n",
    "\n",
    "filenames = os.listdir('D:/Modelling/Diff_flux_sampling/sampling/optgp') # lists all csv files in your directory\n",
    "\n",
    "def extract_name_files(text): # removes .csv from the name of each file\n",
    "    name_file = text.strip('.csv').lower()\n",
    "    return name_file\n",
    "\n",
    "names_of_files = list(map(extract_name_files,filenames)) # creates a list that will be used to name your dataframes\n",
    "\n",
    "for i in range(0,len(names_of_files)): # saves each csv in a dataframe structure\n",
    "     exec(names_of_files[i] + \" =  pd.read_csv(filenames[i])\")"
   ]
  },
  {
   "cell_type": "code",
   "execution_count": 8,
   "metadata": {},
   "outputs": [],
   "source": [
    "import numpy as np\n",
    "sample_1_mean = pd.DataFrame({'C1_mean':ample_1_optgp.mean(axis=0)})\n",
    "sample_2_mean = pd.DataFrame({'C2_mean':ample_2_optgp.mean(axis=0)})\n",
    "sample_3_mean = pd.DataFrame({'C3_mean':ample_3_optgp.mean(axis=0)})\n",
    "sample_4_mean = pd.DataFrame({'C4_mean':ample_4_optgp.mean(axis=0)})\n",
    "sample_5_mean = pd.DataFrame({'C5_mean':ample_5_optgp.mean(axis=0)})\n",
    "sample_6_mean = pd.DataFrame({'C6_mean':ample_6_optgp.mean(axis=0)})\n",
    "sample_7_mean = pd.DataFrame({'C7_mean':ample_7_optgp.mean(axis=0)})\n",
    "sample_8_mean = pd.DataFrame({'C8_mean':ample_8_optgp.mean(axis=0)})\n",
    "sample_9_mean = pd.DataFrame({'C9_mean':ample_9_optgp.mean(axis=0)})\n",
    "sample_10_mean = pd.DataFrame({'C10_mean':ample_10_optgp.mean(axis=0)})\n",
    "sample_11_mean = pd.DataFrame({'C11_mean':ample_11_optgp.mean(axis=0)})\n",
    "sample_12_mean = pd.DataFrame({'C12_mean':ample_12_optgp.mean(axis=0)})\n",
    "sample_13_mean = pd.DataFrame({'C13_mean':ample_13_optgp.mean(axis=0)})\n",
    "sample_14_mean = pd.DataFrame({'C14_mean':ample_14_optgp.mean(axis=0)})\n",
    "sample_15_mean = pd.DataFrame({'C15_mean':ample_15_optgp.mean(axis=0)})\n",
    "sample_16_mean = pd.DataFrame({'C16_mean':ample_16_optgp.mean(axis=0)})\n"
   ]
  },
  {
   "cell_type": "code",
   "execution_count": 4,
   "metadata": {},
   "outputs": [
    {
     "data": {
      "text/html": [
       "<div>\n",
       "<style scoped>\n",
       "    .dataframe tbody tr th:only-of-type {\n",
       "        vertical-align: middle;\n",
       "    }\n",
       "\n",
       "    .dataframe tbody tr th {\n",
       "        vertical-align: top;\n",
       "    }\n",
       "\n",
       "    .dataframe thead th {\n",
       "        text-align: right;\n",
       "    }\n",
       "</style>\n",
       "<table border=\"1\" class=\"dataframe\">\n",
       "  <thead>\n",
       "    <tr style=\"text-align: right;\">\n",
       "      <th></th>\n",
       "      <th>C1_mean</th>\n",
       "    </tr>\n",
       "  </thead>\n",
       "  <tbody>\n",
       "    <tr>\n",
       "      <th>r_0004</th>\n",
       "      <td>0.475756</td>\n",
       "    </tr>\n",
       "    <tr>\n",
       "      <th>r_0007</th>\n",
       "      <td>0.127391</td>\n",
       "    </tr>\n",
       "    <tr>\n",
       "      <th>r_0012</th>\n",
       "      <td>1.866109</td>\n",
       "    </tr>\n",
       "    <tr>\n",
       "      <th>r_0013</th>\n",
       "      <td>0.318301</td>\n",
       "    </tr>\n",
       "    <tr>\n",
       "      <th>r_0016</th>\n",
       "      <td>0.384085</td>\n",
       "    </tr>\n",
       "    <tr>\n",
       "      <th>...</th>\n",
       "      <td>...</td>\n",
       "    </tr>\n",
       "    <tr>\n",
       "      <th>r_4651</th>\n",
       "      <td>0.415930</td>\n",
       "    </tr>\n",
       "    <tr>\n",
       "      <th>r_4678</th>\n",
       "      <td>0.415930</td>\n",
       "    </tr>\n",
       "    <tr>\n",
       "      <th>r_4679</th>\n",
       "      <td>0.415930</td>\n",
       "    </tr>\n",
       "    <tr>\n",
       "      <th>r_4681</th>\n",
       "      <td>0.415930</td>\n",
       "    </tr>\n",
       "    <tr>\n",
       "      <th>r_4686</th>\n",
       "      <td>-0.415930</td>\n",
       "    </tr>\n",
       "  </tbody>\n",
       "</table>\n",
       "<p>1726 rows × 1 columns</p>\n",
       "</div>"
      ],
      "text/plain": [
       "         C1_mean\n",
       "r_0004  0.475756\n",
       "r_0007  0.127391\n",
       "r_0012  1.866109\n",
       "r_0013  0.318301\n",
       "r_0016  0.384085\n",
       "...          ...\n",
       "r_4651  0.415930\n",
       "r_4678  0.415930\n",
       "r_4679  0.415930\n",
       "r_4681  0.415930\n",
       "r_4686 -0.415930\n",
       "\n",
       "[1726 rows x 1 columns]"
      ]
     },
     "execution_count": 4,
     "metadata": {},
     "output_type": "execute_result"
    }
   ],
   "source": [
    "sample_1_mean"
   ]
  },
  {
   "cell_type": "code",
   "execution_count": 12,
   "metadata": {},
   "outputs": [],
   "source": [
    "result =  pd.merge(sample_13_mean,sample_14_mean, left_index=True, right_index=True)\n",
    "merged = pd.merge (result, sample_8_mean,left_index=True, right_index=True)\n",
    "merged = pd.merge (merged, sample_1_mean,left_index=True, right_index=True)\n",
    "merged = pd.merge (merged, sample_2_mean,left_index=True, right_index=True)\n",
    "merged = pd.merge (merged, sample_3_mean,left_index=True, right_index=True)\n",
    "merged = pd.merge (merged, sample_4_mean,left_index=True, right_index=True)\n",
    "merged = pd.merge (merged, sample_5_mean,left_index=True, right_index=True)\n",
    "merged = pd.merge (merged, sample_6_mean,left_index=True, right_index=True)\n",
    "merged = pd.merge (merged, sample_7_mean,left_index=True, right_index=True)\n",
    "merged = pd.merge (merged, sample_10_mean,left_index=True, right_index=True)\n",
    "merged = pd.merge (merged, sample_9_mean,left_index=True, right_index=True)\n",
    "merged = pd.merge (merged, sample_2_mean,left_index=True, right_index=True)\n",
    "merged = pd.merge (merged, sample_11_mean,left_index=True, right_index=True)\n",
    "merged = pd.merge (merged, sample_12_mean,left_index=True, right_index=True)\n",
    "merged = pd.merge (merged, sample_15_mean,left_index=True, right_index=True)\n",
    "merged_fin = pd.merge (merged, sample_16_mean,left_index=True, right_index=True)\n",
    "\n",
    "merged_fin.to_csv('mean_all_union.csv')\n"
   ]
  },
  {
   "cell_type": "code",
   "execution_count": 13,
   "metadata": {},
   "outputs": [],
   "source": [
    "result =  pd.merge(sample_13_mean,sample_14_mean, left_index=True, right_index=True)\n",
    "merged = pd.merge (result, sample_8_mean,left_index=True, right_index=True)\n",
    "merged = pd.merge (merged, sample_1_mean,left_index=True, right_index=True)\n",
    "merged = pd.merge (merged, sample_2_mean,left_index=True, right_index=True)\n",
    "merged = pd.merge (merged, sample_3_mean,left_index=True, right_index=True)\n",
    "merged = pd.merge (merged, sample_4_mean,left_index=True, right_index=True)\n",
    "merged = pd.merge (merged, sample_5_mean,left_index=True, right_index=True)\n",
    "merged = pd.merge (merged, sample_6_mean,left_index=True, right_index=True)\n",
    "merged = pd.merge (merged, sample_7_mean,left_index=True, right_index=True)\n",
    "merged = pd.merge (merged, sample_10_mean,left_index=True, right_index=True)\n",
    "merged = pd.merge (merged, sample_9_mean,left_index=True, right_index=True)\n",
    "merged = pd.merge (merged, sample_2_mean,left_index=True, right_index=True)\n",
    "merged = pd.merge (merged, sample_11_mean,left_index=True, right_index=True)\n",
    "merged = pd.merge (merged, sample_12_mean,left_index=True, right_index=True)\n",
    "merged_fin_without16 = pd.merge (merged, sample_15_mean,left_index=True, right_index=True)\n",
    "\n",
    "\n",
    "merged_fin_without16.to_csv('mean_without16_union.csv')\n"
   ]
  },
  {
   "cell_type": "code",
   "execution_count": 9,
   "metadata": {},
   "outputs": [
    {
     "data": {
      "text/html": [
       "<div>\n",
       "<style scoped>\n",
       "    .dataframe tbody tr th:only-of-type {\n",
       "        vertical-align: middle;\n",
       "    }\n",
       "\n",
       "    .dataframe tbody tr th {\n",
       "        vertical-align: top;\n",
       "    }\n",
       "\n",
       "    .dataframe thead th {\n",
       "        text-align: right;\n",
       "    }\n",
       "</style>\n",
       "<table border=\"1\" class=\"dataframe\">\n",
       "  <thead>\n",
       "    <tr style=\"text-align: right;\">\n",
       "      <th></th>\n",
       "      <th>C13_mean</th>\n",
       "      <th>C14_mean</th>\n",
       "      <th>C8_mean</th>\n",
       "    </tr>\n",
       "  </thead>\n",
       "  <tbody>\n",
       "    <tr>\n",
       "      <th>r_0012</th>\n",
       "      <td>1.081272</td>\n",
       "      <td>0.349894</td>\n",
       "      <td>1.329171</td>\n",
       "    </tr>\n",
       "    <tr>\n",
       "      <th>r_0013</th>\n",
       "      <td>0.228608</td>\n",
       "      <td>0.342563</td>\n",
       "      <td>0.263922</td>\n",
       "    </tr>\n",
       "    <tr>\n",
       "      <th>r_0018</th>\n",
       "      <td>0.180726</td>\n",
       "      <td>0.176363</td>\n",
       "      <td>0.185082</td>\n",
       "    </tr>\n",
       "    <tr>\n",
       "      <th>r_0026</th>\n",
       "      <td>0.228608</td>\n",
       "      <td>0.342563</td>\n",
       "      <td>0.263922</td>\n",
       "    </tr>\n",
       "    <tr>\n",
       "      <th>r_0027</th>\n",
       "      <td>0.180726</td>\n",
       "      <td>0.176363</td>\n",
       "      <td>0.185082</td>\n",
       "    </tr>\n",
       "    <tr>\n",
       "      <th>...</th>\n",
       "      <td>...</td>\n",
       "      <td>...</td>\n",
       "      <td>...</td>\n",
       "    </tr>\n",
       "    <tr>\n",
       "      <th>r_4651</th>\n",
       "      <td>0.530035</td>\n",
       "      <td>0.275659</td>\n",
       "      <td>0.461007</td>\n",
       "    </tr>\n",
       "    <tr>\n",
       "      <th>r_4678</th>\n",
       "      <td>0.530035</td>\n",
       "      <td>0.275659</td>\n",
       "      <td>0.461007</td>\n",
       "    </tr>\n",
       "    <tr>\n",
       "      <th>r_4679</th>\n",
       "      <td>0.530035</td>\n",
       "      <td>0.275659</td>\n",
       "      <td>0.461007</td>\n",
       "    </tr>\n",
       "    <tr>\n",
       "      <th>r_4681</th>\n",
       "      <td>0.530035</td>\n",
       "      <td>0.275659</td>\n",
       "      <td>0.461007</td>\n",
       "    </tr>\n",
       "    <tr>\n",
       "      <th>r_4686</th>\n",
       "      <td>-0.530035</td>\n",
       "      <td>-0.275659</td>\n",
       "      <td>-0.461007</td>\n",
       "    </tr>\n",
       "  </tbody>\n",
       "</table>\n",
       "<p>1310 rows × 3 columns</p>\n",
       "</div>"
      ],
      "text/plain": [
       "        C13_mean  C14_mean   C8_mean\n",
       "r_0012  1.081272  0.349894  1.329171\n",
       "r_0013  0.228608  0.342563  0.263922\n",
       "r_0018  0.180726  0.176363  0.185082\n",
       "r_0026  0.228608  0.342563  0.263922\n",
       "r_0027  0.180726  0.176363  0.185082\n",
       "...          ...       ...       ...\n",
       "r_4651  0.530035  0.275659  0.461007\n",
       "r_4678  0.530035  0.275659  0.461007\n",
       "r_4679  0.530035  0.275659  0.461007\n",
       "r_4681  0.530035  0.275659  0.461007\n",
       "r_4686 -0.530035 -0.275659 -0.461007\n",
       "\n",
       "[1310 rows x 3 columns]"
      ]
     },
     "execution_count": 9,
     "metadata": {},
     "output_type": "execute_result"
    }
   ],
   "source": []
  },
  {
   "cell_type": "code",
   "execution_count": 8,
   "metadata": {
    "scrolled": true
   },
   "outputs": [
    {
     "data": {
      "text/plain": [
       "<seaborn.matrix.ClusterGrid at 0x194c60632e0>"
      ]
     },
     "execution_count": 8,
     "metadata": {},
     "output_type": "execute_result"
    },
    {
     "data": {
      "image/png": "[encoded data removed]",
      "text/plain": [
       "<Figure size 504x504 with 4 Axes>"
      ]
     },
     "metadata": {
      "needs_background": "light"
     },
     "output_type": "display_data"
    }
   ],
   "source": [
    "merged\n",
    "import seaborn as sns\n",
    "sns.clustermap(merged,cmap=\"vlag\",figsize=(7, 7),linewidths=1)"
   ]
  },
  {
   "cell_type": "code",
   "execution_count": null,
   "metadata": {},
   "outputs": [],
   "source": []
  },
  {
   "cell_type": "code",
   "execution_count": 5,
   "metadata": {},
   "outputs": [],
   "source": [
    "for i in range(1, 16):\n",
    "    merged = pd.merge(globals()['sample_%s_mean' % i],sample_16_mean, left_index=True, right_index=True)\n",
    "    merged['flux_change'] = (merged.iloc[:,0] - merged.iloc[:,1])/abs((merged.iloc[:,0] + merged.iloc[:,1]))\n",
    "    final = merged[merged['flux_change']>0.82]\n",
    "    final.to_csv('C_%s_16_diff_abs.csv' % i)"
   ]
  },
  {
   "cell_type": "code",
   "execution_count": 9,
   "metadata": {},
   "outputs": [],
   "source": [
    "\n",
    "#downregulated reactions\n",
    "for i in range(1, 16):\n",
    "    merged = pd.merge(globals()['sample_%s_mean' % i],sample_16_mean, left_index=True, right_index=True)\n",
    "    merged['flux_change'] = (merged.iloc[:,0] - merged.iloc[:,1])/abs((merged.iloc[:,0] + merged.iloc[:,1]))\n",
    "    final = merged[merged['flux_change'] < -0.82]\n",
    "    final.to_csv('C_%s_16_diff_abs_down.csv' % i)"
   ]
  },
  {
   "cell_type": "code",
   "execution_count": 11,
   "metadata": {},
   "outputs": [],
   "source": [
    "import os\n",
    "from scipy import stats"
   ]
  },
  {
   "cell_type": "code",
   "execution_count": 10,
   "metadata": {},
   "outputs": [
    {
     "data": {
      "text/html": [
       "<div>\n",
       "<style scoped>\n",
       "    .dataframe tbody tr th:only-of-type {\n",
       "        vertical-align: middle;\n",
       "    }\n",
       "\n",
       "    .dataframe tbody tr th {\n",
       "        vertical-align: top;\n",
       "    }\n",
       "\n",
       "    .dataframe thead th {\n",
       "        text-align: right;\n",
       "    }\n",
       "</style>\n",
       "<table border=\"1\" class=\"dataframe\">\n",
       "  <thead>\n",
       "    <tr style=\"text-align: right;\">\n",
       "      <th></th>\n",
       "      <th>Unnamed: 0</th>\n",
       "      <th>C1_mean</th>\n",
       "      <th>C16_mean</th>\n",
       "      <th>flux_change</th>\n",
       "    </tr>\n",
       "  </thead>\n",
       "  <tbody>\n",
       "    <tr>\n",
       "      <th>0</th>\n",
       "      <td>r_0091</td>\n",
       "      <td>7.944272</td>\n",
       "      <td>0.538344</td>\n",
       "      <td>0.873071</td>\n",
       "    </tr>\n",
       "    <tr>\n",
       "      <th>1</th>\n",
       "      <td>r_0466</td>\n",
       "      <td>7.944272</td>\n",
       "      <td>0.538344</td>\n",
       "      <td>0.873071</td>\n",
       "    </tr>\n",
       "    <tr>\n",
       "      <th>2</th>\n",
       "      <td>r_0889</td>\n",
       "      <td>7.944272</td>\n",
       "      <td>0.538344</td>\n",
       "      <td>0.873071</td>\n",
       "    </tr>\n",
       "    <tr>\n",
       "      <th>3</th>\n",
       "      <td>r_0984</td>\n",
       "      <td>4.597797</td>\n",
       "      <td>-0.132563</td>\n",
       "      <td>1.059375</td>\n",
       "    </tr>\n",
       "    <tr>\n",
       "      <th>4</th>\n",
       "      <td>r_1048</td>\n",
       "      <td>4.035538</td>\n",
       "      <td>0.153504</td>\n",
       "      <td>0.926712</td>\n",
       "    </tr>\n",
       "    <tr>\n",
       "      <th>...</th>\n",
       "      <td>...</td>\n",
       "      <td>...</td>\n",
       "      <td>...</td>\n",
       "      <td>...</td>\n",
       "    </tr>\n",
       "    <tr>\n",
       "      <th>102</th>\n",
       "      <td>r_3684</td>\n",
       "      <td>2.328238</td>\n",
       "      <td>-19.266573</td>\n",
       "      <td>1.274907</td>\n",
       "    </tr>\n",
       "    <tr>\n",
       "      <th>103</th>\n",
       "      <td>r_3784</td>\n",
       "      <td>150.841239</td>\n",
       "      <td>-159.853522</td>\n",
       "      <td>34.474593</td>\n",
       "    </tr>\n",
       "    <tr>\n",
       "      <th>104</th>\n",
       "      <td>r_3785</td>\n",
       "      <td>58.112857</td>\n",
       "      <td>-37.951834</td>\n",
       "      <td>4.764872</td>\n",
       "    </tr>\n",
       "    <tr>\n",
       "      <th>105</th>\n",
       "      <td>r_3872</td>\n",
       "      <td>0.894016</td>\n",
       "      <td>-0.285886</td>\n",
       "      <td>1.940215</td>\n",
       "    </tr>\n",
       "    <tr>\n",
       "      <th>106</th>\n",
       "      <td>r_3875</td>\n",
       "      <td>0.355990</td>\n",
       "      <td>-0.167279</td>\n",
       "      <td>2.772866</td>\n",
       "    </tr>\n",
       "  </tbody>\n",
       "</table>\n",
       "<p>107 rows × 4 columns</p>\n",
       "</div>"
      ],
      "text/plain": [
       "    Unnamed: 0     C1_mean    C16_mean  flux_change\n",
       "0       r_0091    7.944272    0.538344     0.873071\n",
       "1       r_0466    7.944272    0.538344     0.873071\n",
       "2       r_0889    7.944272    0.538344     0.873071\n",
       "3       r_0984    4.597797   -0.132563     1.059375\n",
       "4       r_1048    4.035538    0.153504     0.926712\n",
       "..         ...         ...         ...          ...\n",
       "102     r_3684    2.328238  -19.266573     1.274907\n",
       "103     r_3784  150.841239 -159.853522    34.474593\n",
       "104     r_3785   58.112857  -37.951834     4.764872\n",
       "105     r_3872    0.894016   -0.285886     1.940215\n",
       "106     r_3875    0.355990   -0.167279     2.772866\n",
       "\n",
       "[107 rows x 4 columns]"
      ]
     },
     "execution_count": 10,
     "metadata": {},
     "output_type": "execute_result"
    }
   ],
   "source": [
    "C1_16 = pd.read_csv(\"C_1_16_diff_abs.csv\")\n",
    "C1_16"
   ]
  },
  {
   "cell_type": "code",
   "execution_count": 12,
   "metadata": {},
   "outputs": [],
   "source": [
    "for i in range(1, 16):\n",
    "    C1_16 = pd.read_csv(\"C_%s_16_diff_abs.csv\" % i)\n",
    "    reactions = C1_16[\"Unnamed: 0\"]\n",
    "    value = []\n",
    "    for j in range(len(reactions)): \n",
    "        x = globals()['ample_%s_optgp' % i][reactions[j]]\n",
    "        y = ample_16_optgp[reactions[j]]\n",
    "        p = stats.ks_2samp(x, y)\n",
    "        value.append(p)\n",
    "    C1_16['p_value'] = value\n",
    "    C1_16.to_csv(\"C_%s_16_diff_p_abs.csv\" % i)"
   ]
  },
  {
   "cell_type": "code",
   "execution_count": 16,
   "metadata": {},
   "outputs": [],
   "source": [
    "for i in range(1, 16):\n",
    "    C1_16 = pd.read_csv(\"C_%s_16_diff_abs_down.csv\" % i)\n",
    "    reactions = C1_16[\"Unnamed: 0\"]\n",
    "    value = []\n",
    "    for j in range(len(reactions)): \n",
    "        x = globals()['ample_%s_optgp' % i][reactions[j]]\n",
    "        y = ample_16_optgp[reactions[j]]\n",
    "        p = stats.ks_2samp(x, y)\n",
    "        value.append(p)\n",
    "    C1_16['p_value'] = value\n",
    "    C1_16.to_csv(\"C_%s_16_diff_p_abs_down.csv\" % i)"
   ]
  },
  {
   "cell_type": "code",
   "execution_count": 17,
   "metadata": {},
   "outputs": [],
   "source": [
    "def fdr(p_vals):\n",
    "\n",
    "    from scipy.stats import rankdata\n",
    "    ranked_p_values = rankdata(p_vals)\n",
    "    fdr = p_vals * len(p_vals) / ranked_p_values\n",
    "    fdr[fdr > 1] = 1\n",
    "\n",
    "    return fdr"
   ]
  },
  {
   "cell_type": "code",
   "execution_count": 14,
   "metadata": {},
   "outputs": [],
   "source": [
    "for i in range(1, 16):\n",
    "    C1_16 = pd.read_csv(\"C_%s_16_diff_p_abs.csv\" % i)\n",
    "    C1_16['adjp_value'] = fdr(C1_16[\"pvalue\"])\n",
    "    C1_16.to_csv(\"differential_flux_adj/C_%s_16_diff_adjp_abs.csv\" % i)"
   ]
  },
  {
   "cell_type": "code",
   "execution_count": 22,
   "metadata": {},
   "outputs": [],
   "source": [
    "for i in range(1, 16):\n",
    "    C1_16 = pd.read_csv(\"C_%s_16_diff_p_abs_down.csv\" % i)\n",
    "    C1_16['adjp_value'] = fdr(C1_16[\"pvalue\"])\n",
    "    C1_16.to_csv(\"differential_flux_adj/C_%s_16_diff_adjp_abs_down.csv\" % i)"
   ]
  },
  {
   "cell_type": "code",
   "execution_count": 24,
   "metadata": {},
   "outputs": [
    {
     "name": "stderr",
     "output_type": "stream",
     "text": [
      "C:\\Users\\srijith\\anaconda3\\lib\\site-packages\\IPython\\core\\interactiveshell.py:3146: DtypeWarning: Columns (1) have mixed types.Specify dtype option on import or set low_memory=False.\n",
      "  has_raised = await self.run_ast_nodes(code_ast.body, cell_name,\n"
     ]
    }
   ],
   "source": [
    "for i in range(1, 16):\n",
    "    C1_16 = pd.read_csv(\"differential_flux_adj/C_%s_16_diff_adjp_abs.csv\" % i)\n",
    "    # C1_16.columns = C1_16.columns.str.replace('Unnamed: 0.1', \"reactions\")\n",
    "    C1_16.rename(columns={\"Unnamed: 0.1\": \"reactions\"}, inplace=True)\n",
    "    "
   ]
  },
  {
   "cell_type": "code",
   "execution_count": 26,
   "metadata": {},
   "outputs": [],
   "source": [
    "for i in range(1, 16):\n",
    "    C1_16 = pd.read_csv(\"differential_flux_adj/C_%s_16_diff_adjp_abs_down.csv\" % i)\n",
    "    # C1_16.columns = C1_16.columns.str.replace('Unnamed: 0.1', \"reactions\")\n",
    "    C1_16.rename(columns={\"Unnamed: 0.1\": \"reactions\"}, inplace=True)\n",
    "    "
   ]
  },
  {
   "cell_type": "code",
   "execution_count": 1,
   "metadata": {},
   "outputs": [
    {
     "data": {
      "text/plain": [
       "pandas.core.indexes.base.Index"
      ]
     },
     "execution_count": 1,
     "metadata": {},
     "output_type": "execute_result"
    }
   ],
   "source": [
    "import pandas as pd\n",
    "c1_diff =  pd.read_csv(\"C_1_16_diff_adjp_abs.csv\",  index_col=0 )\n",
    "diff_rxns = pd.read_csv(\"FC_abs.csv\",  index_col=0 )\n",
    "rxns = c1_diff.index\n",
    "type(rxns)"
   ]
  },
  {
   "cell_type": "code",
   "execution_count": 11,
   "metadata": {},
   "outputs": [
    {
     "data": {
      "text/plain": [
       "'FC9'"
      ]
     },
     "execution_count": 11,
     "metadata": {},
     "output_type": "execute_result"
    }
   ],
   "source": [
    "max(diff_rxns)"
   ]
  },
  {
   "cell_type": "code",
   "execution_count": 2,
   "metadata": {},
   "outputs": [
    {
     "data": {
      "text/plain": [
       "<seaborn.matrix.ClusterGrid at 0x1e193de9700>"
      ]
     },
     "execution_count": 2,
     "metadata": {},
     "output_type": "execute_result"
    },
    {
     "data": {
      "image/png": "[encoded data removed]",
      "text/plain": [
       "<Figure size 504x504 with 4 Axes>"
      ]
     },
     "metadata": {
      "needs_background": "light"
     },
     "output_type": "display_data"
    }
   ],
   "source": [
    "import seaborn as sns\n",
    "sns.clustermap(diff_rxns,cmap=\"vlag\",figsize=(7, 7))"
   ]
  },
  {
   "cell_type": "code",
   "execution_count": 15,
   "metadata": {},
   "outputs": [
    {
     "data": {
      "image/png": "[encoded data removed]",
      "text/plain": [
       "<Figure size 504x504 with 4 Axes>"
      ]
     },
     "metadata": {
      "needs_background": "light"
     },
     "output_type": "display_data"
    }
   ],
   "source": [
    "diff_spc_rxns = ['r_1048','r_0889','r_0091','r_0466','r_0984','r_1050']\n",
    "diff_rxns_2 = diff_rxns.loc[diff_spc_rxns,]\n",
    "\n",
    "\n",
    "import seaborn as sns\n",
    "sns.clustermap(diff_rxns_2,cmap = \"vlag\",figsize=(7, 7),linewidths=1, linecolor='white')\n",
    "\n",
    "\n",
    "\n",
    "\n",
    "\n",
    "\n",
    "\n",
    "\n",
    "\n",
    "\n"
   ]
  },
  {
   "cell_type": "code",
   "execution_count": 16,
   "metadata": {},
   "outputs": [
    {
     "data": {
      "text/html": [
       "<div>\n",
       "<style scoped>\n",
       "    .dataframe tbody tr th:only-of-type {\n",
       "        vertical-align: middle;\n",
       "    }\n",
       "\n",
       "    .dataframe tbody tr th {\n",
       "        vertical-align: top;\n",
       "    }\n",
       "\n",
       "    .dataframe thead th {\n",
       "        text-align: right;\n",
       "    }\n",
       "</style>\n",
       "<table border=\"1\" class=\"dataframe\">\n",
       "  <thead>\n",
       "    <tr style=\"text-align: right;\">\n",
       "      <th></th>\n",
       "      <th>FC1</th>\n",
       "      <th>FC2</th>\n",
       "      <th>FC3</th>\n",
       "      <th>FC4</th>\n",
       "      <th>FC5</th>\n",
       "      <th>FC6</th>\n",
       "      <th>FC7</th>\n",
       "      <th>FC8</th>\n",
       "      <th>FC9</th>\n",
       "      <th>FC10</th>\n",
       "      <th>FC11</th>\n",
       "      <th>FC12</th>\n",
       "      <th>FC13</th>\n",
       "      <th>FC14</th>\n",
       "      <th>FC15</th>\n",
       "    </tr>\n",
       "    <tr>\n",
       "      <th>diff_reactions</th>\n",
       "      <th></th>\n",
       "      <th></th>\n",
       "      <th></th>\n",
       "      <th></th>\n",
       "      <th></th>\n",
       "      <th></th>\n",
       "      <th></th>\n",
       "      <th></th>\n",
       "      <th></th>\n",
       "      <th></th>\n",
       "      <th></th>\n",
       "      <th></th>\n",
       "      <th></th>\n",
       "      <th></th>\n",
       "      <th></th>\n",
       "    </tr>\n",
       "  </thead>\n",
       "  <tbody>\n",
       "    <tr>\n",
       "      <th>r_1048</th>\n",
       "      <td>0.926712</td>\n",
       "      <td>0.0</td>\n",
       "      <td>0.0</td>\n",
       "      <td>0.0</td>\n",
       "      <td>0.930765</td>\n",
       "      <td>0.870735</td>\n",
       "      <td>0.0</td>\n",
       "      <td>0.962211</td>\n",
       "      <td>0.0</td>\n",
       "      <td>0.000000</td>\n",
       "      <td>0.929246</td>\n",
       "      <td>0.927771</td>\n",
       "      <td>0.0</td>\n",
       "      <td>0.911161</td>\n",
       "      <td>0.0</td>\n",
       "    </tr>\n",
       "    <tr>\n",
       "      <th>r_0889</th>\n",
       "      <td>0.873071</td>\n",
       "      <td>0.0</td>\n",
       "      <td>0.0</td>\n",
       "      <td>0.0</td>\n",
       "      <td>0.866966</td>\n",
       "      <td>0.000000</td>\n",
       "      <td>0.0</td>\n",
       "      <td>0.882705</td>\n",
       "      <td>0.0</td>\n",
       "      <td>0.861497</td>\n",
       "      <td>0.872039</td>\n",
       "      <td>0.876286</td>\n",
       "      <td>0.0</td>\n",
       "      <td>0.850057</td>\n",
       "      <td>0.0</td>\n",
       "    </tr>\n",
       "    <tr>\n",
       "      <th>r_0091</th>\n",
       "      <td>0.873071</td>\n",
       "      <td>0.0</td>\n",
       "      <td>0.0</td>\n",
       "      <td>0.0</td>\n",
       "      <td>0.866966</td>\n",
       "      <td>0.000000</td>\n",
       "      <td>0.0</td>\n",
       "      <td>0.882705</td>\n",
       "      <td>0.0</td>\n",
       "      <td>0.861497</td>\n",
       "      <td>0.872039</td>\n",
       "      <td>0.876286</td>\n",
       "      <td>0.0</td>\n",
       "      <td>0.850057</td>\n",
       "      <td>0.0</td>\n",
       "    </tr>\n",
       "    <tr>\n",
       "      <th>r_0466</th>\n",
       "      <td>0.873071</td>\n",
       "      <td>0.0</td>\n",
       "      <td>0.0</td>\n",
       "      <td>0.0</td>\n",
       "      <td>0.866966</td>\n",
       "      <td>0.000000</td>\n",
       "      <td>0.0</td>\n",
       "      <td>0.882705</td>\n",
       "      <td>0.0</td>\n",
       "      <td>0.861497</td>\n",
       "      <td>0.872039</td>\n",
       "      <td>0.876286</td>\n",
       "      <td>0.0</td>\n",
       "      <td>0.850057</td>\n",
       "      <td>0.0</td>\n",
       "    </tr>\n",
       "    <tr>\n",
       "      <th>r_0984</th>\n",
       "      <td>1.059375</td>\n",
       "      <td>0.0</td>\n",
       "      <td>0.0</td>\n",
       "      <td>0.0</td>\n",
       "      <td>1.061794</td>\n",
       "      <td>0.000000</td>\n",
       "      <td>0.0</td>\n",
       "      <td>1.053685</td>\n",
       "      <td>0.0</td>\n",
       "      <td>1.058592</td>\n",
       "      <td>1.057448</td>\n",
       "      <td>1.055147</td>\n",
       "      <td>0.0</td>\n",
       "      <td>1.065185</td>\n",
       "      <td>0.0</td>\n",
       "    </tr>\n",
       "    <tr>\n",
       "      <th>r_1050</th>\n",
       "      <td>1.128034</td>\n",
       "      <td>0.0</td>\n",
       "      <td>0.0</td>\n",
       "      <td>0.0</td>\n",
       "      <td>1.133598</td>\n",
       "      <td>0.000000</td>\n",
       "      <td>0.0</td>\n",
       "      <td>1.114669</td>\n",
       "      <td>0.0</td>\n",
       "      <td>1.120720</td>\n",
       "      <td>1.122869</td>\n",
       "      <td>1.113422</td>\n",
       "      <td>0.0</td>\n",
       "      <td>1.134762</td>\n",
       "      <td>0.0</td>\n",
       "    </tr>\n",
       "  </tbody>\n",
       "</table>\n",
       "</div>"
      ],
      "text/plain": [
       "                     FC1  FC2  FC3  FC4       FC5       FC6  FC7       FC8  \\\n",
       "diff_reactions                                                               \n",
       "r_1048          0.926712  0.0  0.0  0.0  0.930765  0.870735  0.0  0.962211   \n",
       "r_0889          0.873071  0.0  0.0  0.0  0.866966  0.000000  0.0  0.882705   \n",
       "r_0091          0.873071  0.0  0.0  0.0  0.866966  0.000000  0.0  0.882705   \n",
       "r_0466          0.873071  0.0  0.0  0.0  0.866966  0.000000  0.0  0.882705   \n",
       "r_0984          1.059375  0.0  0.0  0.0  1.061794  0.000000  0.0  1.053685   \n",
       "r_1050          1.128034  0.0  0.0  0.0  1.133598  0.000000  0.0  1.114669   \n",
       "\n",
       "                FC9      FC10      FC11      FC12  FC13      FC14  FC15  \n",
       "diff_reactions                                                           \n",
       "r_1048          0.0  0.000000  0.929246  0.927771   0.0  0.911161   0.0  \n",
       "r_0889          0.0  0.861497  0.872039  0.876286   0.0  0.850057   0.0  \n",
       "r_0091          0.0  0.861497  0.872039  0.876286   0.0  0.850057   0.0  \n",
       "r_0466          0.0  0.861497  0.872039  0.876286   0.0  0.850057   0.0  \n",
       "r_0984          0.0  1.058592  1.057448  1.055147   0.0  1.065185   0.0  \n",
       "r_1050          0.0  1.120720  1.122869  1.113422   0.0  1.134762   0.0  "
      ]
     },
     "execution_count": 16,
     "metadata": {},
     "output_type": "execute_result"
    }
   ],
   "source": [
    "diff_rxns_2 "
   ]
  }
 ],
 "metadata": {
  "kernelspec": {
   "display_name": "Python 3",
   "language": "python",
   "name": "python3"
  },
  "language_info": {
   "codemirror_mode": {
    "name": "ipython",
    "version": 3
   },
   "file_extension": ".py",
   "mimetype": "text/x-python",
   "name": "python",
   "nbconvert_exporter": "python",
   "pygments_lexer": "ipython3",
   "version": "3.8.5"
  },
  "toc": {
   "base_numbering": 1,
   "nav_menu": {},
   "number_sections": true,
   "sideBar": true,
   "skip_h1_title": false,
   "title_cell": "Table of Contents",
   "title_sidebar": "Contents",
   "toc_cell": false,
   "toc_position": {},
   "toc_section_display": true,
   "toc_window_display": false
  }
 },
 "nbformat": 4,
 "nbformat_minor": 4
}
